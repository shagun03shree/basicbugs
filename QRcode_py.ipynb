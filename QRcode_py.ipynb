{
  "nbformat": 4,
  "nbformat_minor": 0,
  "metadata": {
    "colab": {
      "name": "QRcode.py",
      "provenance": [],
      "collapsed_sections": [],
      "authorship_tag": "ABX9TyP6zZ/Oh4H+losBDckNgu1W",
      "include_colab_link": true
    },
    "kernelspec": {
      "name": "python3",
      "display_name": "Python 3"
    },
    "language_info": {
      "name": "python"
    }
  },
  "cells": [
    {
      "cell_type": "markdown",
      "metadata": {
        "id": "view-in-github",
        "colab_type": "text"
      },
      "source": [
        "<a href=\"https://colab.research.google.com/github/shagun03shree/basicbugs/blob/main/QRcode_py.ipynb\" target=\"_parent\"><img src=\"https://colab.research.google.com/assets/colab-badge.svg\" alt=\"Open In Colab\"/></a>"
      ]
    },
    {
      "cell_type": "code",
      "metadata": {
        "colab": {
          "base_uri": "https://localhost:8080/"
        },
        "id": "IU4DiWbCoPrp",
        "outputId": "6a8fbc9c-82bf-4b0c-d7f4-c31d2f0cc7c7"
      },
      "source": [
        "!pip install opencv-python "
      ],
      "execution_count": null,
      "outputs": [
        {
          "output_type": "stream",
          "text": [
            "Requirement already satisfied: opencv-python in /usr/local/lib/python3.7/dist-packages (4.1.2.30)\n",
            "Requirement already satisfied: numpy>=1.14.5 in /usr/local/lib/python3.7/dist-packages (from opencv-python) (1.19.5)\n"
          ],
          "name": "stdout"
        }
      ]
    },
    {
      "cell_type": "code",
      "metadata": {
        "colab": {
          "base_uri": "https://localhost:8080/"
        },
        "id": "NfSOjqJWq6mK",
        "outputId": "bd8baf3e-0401-4f45-9321-ba5aa9212b08"
      },
      "source": [
        "!pip install qrcode"
      ],
      "execution_count": null,
      "outputs": [
        {
          "output_type": "stream",
          "text": [
            "Collecting qrcode\n",
            "  Downloading qrcode-7.2.tar.gz (43 kB)\n",
            "\u001b[?25l\r\u001b[K     |███████▋                        | 10 kB 22.9 MB/s eta 0:00:01\r\u001b[K     |███████████████▎                | 20 kB 24.5 MB/s eta 0:00:01\r\u001b[K     |██████████████████████▉         | 30 kB 20.5 MB/s eta 0:00:01\r\u001b[K     |██████████████████████████████▌ | 40 kB 13.4 MB/s eta 0:00:01\r\u001b[K     |████████████████████████████████| 43 kB 1.2 MB/s \n",
            "\u001b[?25hBuilding wheels for collected packages: qrcode\n",
            "  Building wheel for qrcode (setup.py) ... \u001b[?25l\u001b[?25hdone\n",
            "  Created wheel for qrcode: filename=qrcode-7.2-py3-none-any.whl size=39932 sha256=ddd93e93001a5b38db53ad7bce358bd3f7322bc670cac668a15d28d3348806c7\n",
            "  Stored in directory: /root/.cache/pip/wheels/f7/8f/9d/c58ece1af20863606f3fc0a84bc09021f542a2a18da99ba3ba\n",
            "Successfully built qrcode\n",
            "Installing collected packages: qrcode\n",
            "Successfully installed qrcode-7.2\n"
          ],
          "name": "stdout"
        }
      ]
    },
    {
      "cell_type": "code",
      "metadata": {
        "colab": {
          "base_uri": "https://localhost:8080/"
        },
        "id": "rvn1TKK2rTz-",
        "outputId": "ff11a8b8-7571-4020-9e56-435557780ab1"
      },
      "source": [
        "!pip install numpy"
      ],
      "execution_count": null,
      "outputs": [
        {
          "output_type": "stream",
          "text": [
            "Requirement already satisfied: numpy in /usr/local/lib/python3.7/dist-packages (1.19.5)\n"
          ],
          "name": "stdout"
        }
      ]
    },
    {
      "cell_type": "code",
      "metadata": {
        "colab": {
          "base_uri": "https://localhost:8080/"
        },
        "id": "j0wL-b_Orcp8",
        "outputId": "d7390a3e-a71a-4fe3-b2e1-3061d050f946"
      },
      "source": [
        "!pip install image"
      ],
      "execution_count": null,
      "outputs": [
        {
          "output_type": "stream",
          "text": [
            "Collecting image\n",
            "  Downloading image-1.5.33.tar.gz (15 kB)\n",
            "Requirement already satisfied: pillow in /usr/local/lib/python3.7/dist-packages (from image) (7.1.2)\n",
            "Collecting django\n",
            "  Downloading Django-3.2.5-py3-none-any.whl (7.9 MB)\n",
            "\u001b[K     |████████████████████████████████| 7.9 MB 5.5 MB/s \n",
            "\u001b[?25hRequirement already satisfied: six in /usr/local/lib/python3.7/dist-packages (from image) (1.15.0)\n",
            "Collecting asgiref<4,>=3.3.2\n",
            "  Downloading asgiref-3.4.1-py3-none-any.whl (25 kB)\n",
            "Requirement already satisfied: sqlparse>=0.2.2 in /usr/local/lib/python3.7/dist-packages (from django->image) (0.4.1)\n",
            "Requirement already satisfied: pytz in /usr/local/lib/python3.7/dist-packages (from django->image) (2018.9)\n",
            "Requirement already satisfied: typing-extensions in /usr/local/lib/python3.7/dist-packages (from asgiref<4,>=3.3.2->django->image) (3.7.4.3)\n",
            "Building wheels for collected packages: image\n",
            "  Building wheel for image (setup.py) ... \u001b[?25l\u001b[?25hdone\n",
            "  Created wheel for image: filename=image-1.5.33-py2.py3-none-any.whl size=19495 sha256=073a16cc29d01696d0bd1fa18c5ab7ff9ab299e1a1f622f0e744d9b457a173f0\n",
            "  Stored in directory: /root/.cache/pip/wheels/56/88/e6/897194cfe8c08a8b9afd881d3bf53d102e13fa39607d721383\n",
            "Successfully built image\n",
            "Installing collected packages: asgiref, django, image\n",
            "Successfully installed asgiref-3.4.1 django-3.2.5 image-1.5.33\n"
          ],
          "name": "stdout"
        }
      ]
    },
    {
      "cell_type": "code",
      "metadata": {
        "id": "kCztfbCSrsJj"
      },
      "source": [
        "import qrcode\n",
        "data=\"https://www.scatshop.com/wp-content/uploads/2018/06/poo3.png\"\n",
        "QRcodefile=\"poo3.png\"\n",
        "QRimage=qrcode.make(data)\n",
        "QRimage.save(QRcodefile)"
      ],
      "execution_count": null,
      "outputs": []
    },
    {
      "cell_type": "code",
      "metadata": {
        "colab": {
          "base_uri": "https://localhost:8080/"
        },
        "id": "_-UmCHEH1wM_",
        "outputId": "7f375cde-fad6-4f78-b473-25c2deef890c"
      },
      "source": [
        "!pip install pyqrcode"
      ],
      "execution_count": null,
      "outputs": [
        {
          "output_type": "stream",
          "text": [
            "Collecting pyqrcode\n",
            "  Downloading PyQRCode-1.2.1.zip (41 kB)\n",
            "\u001b[?25l\r\u001b[K     |███████▉                        | 10 kB 21.7 MB/s eta 0:00:01\r\u001b[K     |███████████████▋                | 20 kB 25.9 MB/s eta 0:00:01\r\u001b[K     |███████████████████████▌        | 30 kB 30.7 MB/s eta 0:00:01\r\u001b[K     |███████████████████████████████▎| 40 kB 33.6 MB/s eta 0:00:01\r\u001b[K     |████████████████████████████████| 41 kB 643 kB/s \n",
            "\u001b[?25hBuilding wheels for collected packages: pyqrcode\n",
            "  Building wheel for pyqrcode (setup.py) ... \u001b[?25l\u001b[?25hdone\n",
            "  Created wheel for pyqrcode: filename=PyQRCode-1.2.1-py3-none-any.whl size=36246 sha256=07d2629053859eb3479cd1d9db4b7307dc701e519ef3d88de230f056e62527c4\n",
            "  Stored in directory: /root/.cache/pip/wheels/aa/14/ad/f09824edf35fdc5fd8acc01b60ff57f858f212a2d5c41dddd2\n",
            "Successfully built pyqrcode\n",
            "Installing collected packages: pyqrcode\n",
            "Successfully installed pyqrcode-1.2.1\n"
          ],
          "name": "stdout"
        }
      ]
    },
    {
      "cell_type": "code",
      "metadata": {
        "colab": {
          "base_uri": "https://localhost:8080/"
        },
        "id": "57elUXiJ15cu",
        "outputId": "2e99f601-48ac-4ea4-e2a3-3fcb4992822b"
      },
      "source": [
        "!pip install pypng"
      ],
      "execution_count": null,
      "outputs": [
        {
          "output_type": "stream",
          "text": [
            "Collecting pypng\n",
            "  Downloading pypng-0.0.20.tar.gz (649 kB)\n",
            "\u001b[?25l\r\u001b[K     |▌                               | 10 kB 22.9 MB/s eta 0:00:01\r\u001b[K     |█                               | 20 kB 26.1 MB/s eta 0:00:01\r\u001b[K     |█▌                              | 30 kB 30.5 MB/s eta 0:00:01\r\u001b[K     |██                              | 40 kB 22.9 MB/s eta 0:00:01\r\u001b[K     |██▌                             | 51 kB 25.1 MB/s eta 0:00:01\r\u001b[K     |███                             | 61 kB 24.3 MB/s eta 0:00:01\r\u001b[K     |███▌                            | 71 kB 23.8 MB/s eta 0:00:01\r\u001b[K     |████                            | 81 kB 24.1 MB/s eta 0:00:01\r\u001b[K     |████▌                           | 92 kB 24.9 MB/s eta 0:00:01\r\u001b[K     |█████                           | 102 kB 25.0 MB/s eta 0:00:01\r\u001b[K     |█████▌                          | 112 kB 25.0 MB/s eta 0:00:01\r\u001b[K     |██████                          | 122 kB 25.0 MB/s eta 0:00:01\r\u001b[K     |██████▋                         | 133 kB 25.0 MB/s eta 0:00:01\r\u001b[K     |███████                         | 143 kB 25.0 MB/s eta 0:00:01\r\u001b[K     |███████▋                        | 153 kB 25.0 MB/s eta 0:00:01\r\u001b[K     |████████                        | 163 kB 25.0 MB/s eta 0:00:01\r\u001b[K     |████████▋                       | 174 kB 25.0 MB/s eta 0:00:01\r\u001b[K     |█████████                       | 184 kB 25.0 MB/s eta 0:00:01\r\u001b[K     |█████████▋                      | 194 kB 25.0 MB/s eta 0:00:01\r\u001b[K     |██████████                      | 204 kB 25.0 MB/s eta 0:00:01\r\u001b[K     |██████████▋                     | 215 kB 25.0 MB/s eta 0:00:01\r\u001b[K     |███████████                     | 225 kB 25.0 MB/s eta 0:00:01\r\u001b[K     |███████████▋                    | 235 kB 25.0 MB/s eta 0:00:01\r\u001b[K     |████████████                    | 245 kB 25.0 MB/s eta 0:00:01\r\u001b[K     |████████████▋                   | 256 kB 25.0 MB/s eta 0:00:01\r\u001b[K     |█████████████▏                  | 266 kB 25.0 MB/s eta 0:00:01\r\u001b[K     |█████████████▋                  | 276 kB 25.0 MB/s eta 0:00:01\r\u001b[K     |██████████████▏                 | 286 kB 25.0 MB/s eta 0:00:01\r\u001b[K     |██████████████▋                 | 296 kB 25.0 MB/s eta 0:00:01\r\u001b[K     |███████████████▏                | 307 kB 25.0 MB/s eta 0:00:01\r\u001b[K     |███████████████▋                | 317 kB 25.0 MB/s eta 0:00:01\r\u001b[K     |████████████████▏               | 327 kB 25.0 MB/s eta 0:00:01\r\u001b[K     |████████████████▋               | 337 kB 25.0 MB/s eta 0:00:01\r\u001b[K     |█████████████████▏              | 348 kB 25.0 MB/s eta 0:00:01\r\u001b[K     |█████████████████▋              | 358 kB 25.0 MB/s eta 0:00:01\r\u001b[K     |██████████████████▏             | 368 kB 25.0 MB/s eta 0:00:01\r\u001b[K     |██████████████████▋             | 378 kB 25.0 MB/s eta 0:00:01\r\u001b[K     |███████████████████▏            | 389 kB 25.0 MB/s eta 0:00:01\r\u001b[K     |███████████████████▊            | 399 kB 25.0 MB/s eta 0:00:01\r\u001b[K     |████████████████████▏           | 409 kB 25.0 MB/s eta 0:00:01\r\u001b[K     |████████████████████▊           | 419 kB 25.0 MB/s eta 0:00:01\r\u001b[K     |█████████████████████▏          | 430 kB 25.0 MB/s eta 0:00:01\r\u001b[K     |█████████████████████▊          | 440 kB 25.0 MB/s eta 0:00:01\r\u001b[K     |██████████████████████▏         | 450 kB 25.0 MB/s eta 0:00:01\r\u001b[K     |██████████████████████▊         | 460 kB 25.0 MB/s eta 0:00:01\r\u001b[K     |███████████████████████▏        | 471 kB 25.0 MB/s eta 0:00:01\r\u001b[K     |███████████████████████▊        | 481 kB 25.0 MB/s eta 0:00:01\r\u001b[K     |████████████████████████▏       | 491 kB 25.0 MB/s eta 0:00:01\r\u001b[K     |████████████████████████▊       | 501 kB 25.0 MB/s eta 0:00:01\r\u001b[K     |█████████████████████████▎      | 512 kB 25.0 MB/s eta 0:00:01\r\u001b[K     |█████████████████████████▊      | 522 kB 25.0 MB/s eta 0:00:01\r\u001b[K     |██████████████████████████▎     | 532 kB 25.0 MB/s eta 0:00:01\r\u001b[K     |██████████████████████████▊     | 542 kB 25.0 MB/s eta 0:00:01\r\u001b[K     |███████████████████████████▎    | 552 kB 25.0 MB/s eta 0:00:01\r\u001b[K     |███████████████████████████▊    | 563 kB 25.0 MB/s eta 0:00:01\r\u001b[K     |████████████████████████████▎   | 573 kB 25.0 MB/s eta 0:00:01\r\u001b[K     |████████████████████████████▊   | 583 kB 25.0 MB/s eta 0:00:01\r\u001b[K     |█████████████████████████████▎  | 593 kB 25.0 MB/s eta 0:00:01\r\u001b[K     |█████████████████████████████▊  | 604 kB 25.0 MB/s eta 0:00:01\r\u001b[K     |██████████████████████████████▎ | 614 kB 25.0 MB/s eta 0:00:01\r\u001b[K     |██████████████████████████████▊ | 624 kB 25.0 MB/s eta 0:00:01\r\u001b[K     |███████████████████████████████▎| 634 kB 25.0 MB/s eta 0:00:01\r\u001b[K     |███████████████████████████████▉| 645 kB 25.0 MB/s eta 0:00:01\r\u001b[K     |████████████████████████████████| 649 kB 25.0 MB/s \n",
            "\u001b[?25hBuilding wheels for collected packages: pypng\n",
            "  Building wheel for pypng (setup.py) ... \u001b[?25l\u001b[?25hdone\n",
            "  Created wheel for pypng: filename=pypng-0.0.20-py3-none-any.whl size=67177 sha256=135a07055148cff8d4d85331e338bc480e8b2b6019cb9abb30d50af7dfab9da0\n",
            "  Stored in directory: /root/.cache/pip/wheels/54/64/43/dfd10cf95dc1687dc5350e861321ecd9a5d76b7c3d96fa1dc6\n",
            "Successfully built pypng\n",
            "Installing collected packages: pypng\n",
            "Successfully installed pypng-0.0.20\n"
          ],
          "name": "stdout"
        }
      ]
    },
    {
      "cell_type": "code",
      "metadata": {
        "id": "h2UyihYW1KTZ"
      },
      "source": [
        "import pyqrcode\n",
        "import png\n",
        "from pyqrcode import QRCode\n",
        "  \n",
        "s = \"https://www.scatshop.com/wp-content/uploads/2018/06/poo3.png\"\n",
        "  \n",
        "url = pyqrcode.create(s)\n",
        "  \n",
        "url.svg(\"myqr.svg\", scale = 8)\n",
        "url.png('myqr.png', scale = 6)"
      ],
      "execution_count": null,
      "outputs": []
    }
  ]
}